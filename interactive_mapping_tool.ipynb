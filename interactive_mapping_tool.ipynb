{
 "cells": [
  {
   "cell_type": "code",
   "execution_count": 5,
   "metadata": {},
   "outputs": [],
   "source": [
    "# install packages\n",
    "!pip install ipyleaflet\n",
    "!pip install pandas\n",
    "!pip install geopandas\n",
    "!pip install shapely\n",
    "!pip install notebook"
   ]
  },
  {
   "cell_type": "code",
   "execution_count": null,
   "metadata": {},
   "outputs": [],
   "source": [
    "# install & enable aditional package for enabling interactive map within the notebook\n",
    "!jupyter nbextension install ipyleaflet --user --py\n",
    "!jupyter nbextension enable ipyleaflet --user --py"
   ]
  },
  {
   "cell_type": "code",
   "execution_count": 20,
   "metadata": {},
   "outputs": [],
   "source": [
    "# import packages\n",
    "import ipyleaflet\n",
    "import pandas as pd\n",
    "import geopandas as gpd\n",
    "from shapely.geometry import Polygon"
   ]
  },
  {
   "cell_type": "code",
   "execution_count": 17,
   "metadata": {},
   "outputs": [
    {
     "data": {
      "application/vnd.jupyter.widget-view+json": {
       "model_id": "faf146013def475990cdde34852d8395",
       "version_major": 2,
       "version_minor": 0
      },
      "text/plain": [
       "Map(center=[48, -123], controls=(ZoomControl(options=['position', 'zoom_in_text', 'zoom_in_title', 'zoom_out_t…"
      ]
     },
     "execution_count": 17,
     "metadata": {},
     "output_type": "execute_result"
    }
   ],
   "source": [
    "# create mapping widget\n",
    "from ipyleaflet import Map, basemaps, basemap_to_tiles, DrawControl, projections\n",
    "watercolor = basemap_to_tiles(basemaps.OpenStreetMap.Mapnik)\n",
    "m = Map(layers=(watercolor, ), center=(48, -123), zoom=3) \n",
    "draw_control = DrawControl()\n",
    "\n",
    "draw_control.circle = {\n",
    "    \"shapeOptions\": {\n",
    "        \"fillColor\": \"#efed69\",\n",
    "        \"color\": \"#efed69\",\n",
    "        \"fillOpacity\": 1.0\n",
    "    }\n",
    "}\n",
    "\n",
    "feature_collection = {\n",
    "    'type': 'FeatureCollection',\n",
    "    'features': []\n",
    "}\n",
    "\n",
    "def handle_draw(self, action, geo_json):\n",
    "    \"\"\"Do something with the GeoJSON when it's drawn on the map\"\"\"    \n",
    "    feature_collection['features'].append(geo_json)\n",
    "\n",
    "draw_control.on_draw(handle_draw)\n",
    "\n",
    "m.add_control(draw_control)\n",
    "m"
   ]
  },
  {
   "cell_type": "code",
   "execution_count": 16,
   "metadata": {},
   "outputs": [
    {
     "data": {
      "application/vnd.jupyter.widget-view+json": {
       "model_id": "5cb878e080054268b0a9af0f4a6d9932",
       "version_major": 2,
       "version_minor": 0
      },
      "text/plain": [
       "Map(center=[48, -123], controls=(ZoomControl(options=['position', 'zoom_in_text', 'zoom_in_title', 'zoom_out_t…"
      ]
     },
     "execution_count": 16,
     "metadata": {},
     "output_type": "execute_result"
    }
   ],
   "source": [
    "# create mapping widget with sattelite map\n",
    "from ipyleaflet import Map, basemaps, basemap_to_tiles, DrawControl, projections\n",
    "\n",
    "# switch the base map here\n",
    "watercolor = basemap_to_tiles(basemaps.Gaode.Satellite)\n",
    "m = Map(layers=(watercolor, ), center=(48, -123), zoom=3) \n",
    "draw_control = DrawControl()\n",
    "\n",
    "# change mapping tool UI\n",
    "draw_control.circle = {\n",
    "    \"shapeOptions\": {\n",
    "        \"fillColor\": \"#efed69\",\n",
    "        \"color\": \"#efed69\",\n",
    "        \"fillOpacity\": 1.0\n",
    "    }\n",
    "}\n",
    "\n",
    "# save map features to a dictionary\n",
    "feature_collection = {\n",
    "    'type': 'FeatureCollection',\n",
    "    'features': []\n",
    "}\n",
    "\n",
    "def handle_draw(self, action, geo_json):\n",
    "    \"\"\"Do something with the GeoJSON when it's drawn on the map\"\"\"    \n",
    "    feature_collection['features'].append(geo_json)\n",
    "\n",
    "draw_control.on_draw(handle_draw)\n",
    "\n",
    "m.add_control(draw_control)\n",
    "m"
   ]
  },
  {
   "cell_type": "code",
   "execution_count": 18,
   "metadata": {},
   "outputs": [
    {
     "name": "stdout",
     "output_type": "stream",
     "text": [
      "{'type': 'FeatureCollection', 'features': [{'type': 'Feature', 'properties': {'style': {'stroke': True, 'color': '#3388ff', 'weight': 4, 'opacity': 0.5, 'fill': True, 'fillColor': None, 'fillOpacity': 0.2, 'clickable': True}}, 'geometry': {'type': 'Polygon', 'coordinates': [[[-87.650717, 41.880358], [-87.649763, 41.880382], [-87.649704, 41.879235], [-87.650701, 41.879215], [-87.650717, 41.880358]]]}}, {'type': 'Feature', 'properties': {'style': {'stroke': True, 'color': '#3388ff', 'weight': 4, 'opacity': 0.5, 'fill': True, 'fillColor': None, 'fillOpacity': 0.2, 'clickable': True}}, 'geometry': {'type': 'Polygon', 'coordinates': [[[-87.649559, 41.88037], [-87.648625, 41.880382], [-87.648604, 41.880114], [-87.649516, 41.88011], [-87.649559, 41.88037]]]}}]}\n"
     ]
    }
   ],
   "source": [
    "# print out the dictionary of features you drew on the map\n",
    "print(feature_collection)"
   ]
  },
  {
   "cell_type": "code",
   "execution_count": 21,
   "metadata": {},
   "outputs": [
    {
     "data": {
      "text/html": [
       "<div>\n",
       "<style scoped>\n",
       "    .dataframe tbody tr th:only-of-type {\n",
       "        vertical-align: middle;\n",
       "    }\n",
       "\n",
       "    .dataframe tbody tr th {\n",
       "        vertical-align: top;\n",
       "    }\n",
       "\n",
       "    .dataframe thead th {\n",
       "        text-align: right;\n",
       "    }\n",
       "</style>\n",
       "<table border=\"1\" class=\"dataframe\">\n",
       "  <thead>\n",
       "    <tr style=\"text-align: right;\">\n",
       "      <th></th>\n",
       "      <th>type</th>\n",
       "      <th>geometry</th>\n",
       "    </tr>\n",
       "  </thead>\n",
       "  <tbody>\n",
       "    <tr>\n",
       "      <th>0</th>\n",
       "      <td>Polygon</td>\n",
       "      <td>POLYGON ((-87.65072 41.88036, -87.64976 41.880...</td>\n",
       "    </tr>\n",
       "    <tr>\n",
       "      <th>1</th>\n",
       "      <td>Polygon</td>\n",
       "      <td>POLYGON ((-87.64956 41.88037, -87.64862 41.880...</td>\n",
       "    </tr>\n",
       "  </tbody>\n",
       "</table>\n",
       "</div>"
      ],
      "text/plain": [
       "      type                                           geometry\n",
       "0  Polygon  POLYGON ((-87.65072 41.88036, -87.64976 41.880...\n",
       "1  Polygon  POLYGON ((-87.64956 41.88037, -87.64862 41.880..."
      ]
     },
     "execution_count": 21,
     "metadata": {},
     "output_type": "execute_result"
    }
   ],
   "source": [
    "# parse dictionary of features into shapes\n",
    "parsed_data = [[item['geometry']['type'],\n",
    "                 Polygon(item['geometry']['coordinates'][0])] for item in feature_collection['features']]\n",
    "shapes=gpd.GeoDataFrame(data=parsed_data, columns=['type', 'geometry'], crs=\"EPSG:4326\")\n",
    "shapes"
   ]
  },
  {
   "cell_type": "code",
   "execution_count": 22,
   "metadata": {},
   "outputs": [
    {
     "name": "stderr",
     "output_type": "stream",
     "text": [
      "/Users/claudianikel/Desktop/mapping_project/my_virtual_env/lib/python3.7/site-packages/ipykernel_launcher.py:1: UserWarning: Geometry is in a geographic CRS. Results from 'area' are likely incorrect. Use 'GeoSeries.to_crs()' to re-project geometries to a projected CRS before this operation.\n",
      "\n",
      "  \"\"\"Entry point for launching an IPython kernel.\n"
     ]
    },
    {
     "data": {
      "text/plain": [
       "0    1.117773e-06\n",
       "1    2.439280e-07\n",
       "dtype: float64"
      ]
     },
     "execution_count": 22,
     "metadata": {},
     "output_type": "execute_result"
    }
   ],
   "source": [
    "shapes.area"
   ]
  },
  {
   "cell_type": "code",
   "execution_count": 23,
   "metadata": {},
   "outputs": [
    {
     "data": {
      "text/html": [
       "<div>\n",
       "<style scoped>\n",
       "    .dataframe tbody tr th:only-of-type {\n",
       "        vertical-align: middle;\n",
       "    }\n",
       "\n",
       "    .dataframe tbody tr th {\n",
       "        vertical-align: top;\n",
       "    }\n",
       "\n",
       "    .dataframe thead th {\n",
       "        text-align: right;\n",
       "    }\n",
       "</style>\n",
       "<table border=\"1\" class=\"dataframe\">\n",
       "  <thead>\n",
       "    <tr style=\"text-align: right;\">\n",
       "      <th></th>\n",
       "      <th>type</th>\n",
       "      <th>geometry</th>\n",
       "      <th>area_sqft_espg_6933</th>\n",
       "      <th>area_sqft_espg_32633</th>\n",
       "      <th>area_sqft_espg_3857</th>\n",
       "      <th>area_sqft_espg_26915</th>\n",
       "    </tr>\n",
       "  </thead>\n",
       "  <tbody>\n",
       "    <tr>\n",
       "      <th>0</th>\n",
       "      <td>Polygon</td>\n",
       "      <td>POLYGON ((-87.65072 41.88036, -87.64976 41.880...</td>\n",
       "      <td>110926.592371</td>\n",
       "      <td>233932.260524</td>\n",
       "      <td>200250.400190</td>\n",
       "      <td>111376.584360</td>\n",
       "    </tr>\n",
       "    <tr>\n",
       "      <th>1</th>\n",
       "      <td>Polygon</td>\n",
       "      <td>POLYGON ((-87.64956 41.88037, -87.64863 41.880...</td>\n",
       "      <td>24206.996991</td>\n",
       "      <td>51049.670216</td>\n",
       "      <td>43700.324504</td>\n",
       "      <td>24305.246278</td>\n",
       "    </tr>\n",
       "  </tbody>\n",
       "</table>\n",
       "</div>"
      ],
      "text/plain": [
       "      type                                           geometry  \\\n",
       "0  Polygon  POLYGON ((-87.65072 41.88036, -87.64976 41.880...   \n",
       "1  Polygon  POLYGON ((-87.64956 41.88037, -87.64863 41.880...   \n",
       "\n",
       "   area_sqft_espg_6933  area_sqft_espg_32633  area_sqft_espg_3857  \\\n",
       "0        110926.592371         233932.260524        200250.400190   \n",
       "1         24206.996991          51049.670216         43700.324504   \n",
       "\n",
       "   area_sqft_espg_26915  \n",
       "0         111376.584360  \n",
       "1          24305.246278  "
      ]
     },
     "execution_count": 23,
     "metadata": {},
     "output_type": "execute_result"
    }
   ],
   "source": [
    "# convert sqm into sqft\n",
    "shapes = shapes.to_crs(6933)\n",
    "shapes['area_sqft_espg_6933']=shapes.area*10.7639\n",
    "\n",
    "shapes = shapes.to_crs(32633)\n",
    "shapes['area_sqft_espg_32633']=shapes.area*10.7639\n",
    "\n",
    "shapes = shapes.to_crs(3857)\n",
    "shapes['area_sqft_espg_3857']=shapes.area*10.7639\n",
    "\n",
    "shapes = shapes.to_crs(26915)\n",
    "shapes['area_sqft_espg_26915']=shapes.area*10.7639\n",
    "\n",
    "\n",
    "\n",
    "#convert back to ESP4326 (this is what Google Maps uses)\n",
    "shapes = shapes.to_crs(4326)\n",
    "shapes"
   ]
  }
 ],
 "metadata": {
  "kernelspec": {
   "display_name": "myproject_kernel",
   "language": "python",
   "name": "myproject_kernel"
  },
  "language_info": {
   "codemirror_mode": {
    "name": "ipython",
    "version": 3
   },
   "file_extension": ".py",
   "mimetype": "text/x-python",
   "name": "python",
   "nbconvert_exporter": "python",
   "pygments_lexer": "ipython3",
   "version": "3.7.7"
  }
 },
 "nbformat": 4,
 "nbformat_minor": 2
}
